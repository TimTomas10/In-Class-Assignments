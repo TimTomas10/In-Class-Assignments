{
  "nbformat": 4,
  "nbformat_minor": 0,
  "metadata": {
    "colab": {
      "provenance": [],
      "authorship_tag": "ABX9TyOrkI/8xeXr470OIfjjh4Ga",
      "include_colab_link": true
    },
    "kernelspec": {
      "name": "python3",
      "display_name": "Python 3"
    },
    "language_info": {
      "name": "python"
    }
  },
  "cells": [
    {
      "cell_type": "markdown",
      "metadata": {
        "id": "view-in-github",
        "colab_type": "text"
      },
      "source": [
        "<a href=\"https://colab.research.google.com/github/TimTomas10/In-Class-Assignments/blob/main/In_Class_Assignments.ipynb\" target=\"_parent\"><img src=\"https://colab.research.google.com/assets/colab-badge.svg\" alt=\"Open In Colab\"/></a>"
      ]
    },
    {
      "cell_type": "code",
      "execution_count": null,
      "metadata": {
        "id": "G4g8MIWS-OAG"
      },
      "outputs": [],
      "source": [
        "#Cylinder area calculator\n",
        "pi= 3.14\n",
        "radius= float(input('please provide the radius: '))\n",
        "height= float(input(\"please provide the height: \"))\n",
        "\n",
        "area= 2 * pi * radius**2 + 2 * pi * radius * height\n",
        "\n",
        "print(f'Area of cylander: {area} sq. ft')"
      ]
    },
    {
      "cell_type": "code",
      "source": [
        "#Numerical calculator\n",
        "    num1 = float(input(\"Enter first number: \"))\n",
        "    operator = input(\"Enter an operator (+, -, *, /): \")\n",
        "    num2 = float(input(\"Enter second number: \"))\n",
        "\n",
        "    if operator == '+':\n",
        "        result = num1 + num2\n",
        "    elif operator == '-':\n",
        "        result = num1 - num2\n",
        "    elif operator == '*':\n",
        "        result = num1 * num2\n",
        "    elif operator == '/':\n",
        "        if num2 == 0:\n",
        "            result = \"Error: Division by zero\"\n",
        "        else:\n",
        "            result = num1 / num2\n",
        "    else:\n",
        "        result = \"Error: Invalid operator\"\n",
        "\n",
        "    print(\"Result:\", result)\n"
      ],
      "metadata": {
        "id": "s4TZrIuXBIc5"
      },
      "execution_count": null,
      "outputs": []
    },
    {
      "cell_type": "code",
      "source": [
        "#parking garage\n",
        "for numberHours in range(1, 9):\n",
        "    fee = 5 + 2.5 * numberHours\n",
        "    if fee < 10:\n",
        "      fee = 10.0\n",
        "    elif fee > 20:\n",
        "      fee = 20.0\n",
        "    print(numberHours, fee)"
      ],
      "metadata": {
        "id": "Mph-gUFHBI47"
      },
      "execution_count": null,
      "outputs": []
    },
    {
      "cell_type": "code",
      "source": [
        "#movie theater\n",
        "print(\"Ad Spending ($)  Profit ($)\")\n",
        "\n",
        "ticket_price = 10\n",
        "base_attendance = 20\n",
        "fixed_costs = 200\n",
        "\n",
        "for ad_spending in range(0, 201, 25):\n",
        "    additional_attendees = 2 * round(ad_spending)** .5\n",
        "    total_attendees = base_attendance + additional_attendees\n",
        "    revenue = total_attendees * ticket_price\n",
        "    profit = revenue - (ad_spending + fixed_costs)\n",
        "    print(f\"{ad_spending:<15}  {profit:<10}\")"
      ],
      "metadata": {
        "id": "KXvLOMxJBoNp"
      },
      "execution_count": null,
      "outputs": []
    },
    {
      "cell_type": "code",
      "source": [
        "#Rock-Paper-Scissors\n",
        "play = input('Do you want to play a game (yes/no)? ')\n",
        "\n",
        "while play == 'yes':\n",
        "  p1 = input('Player 1 - Choose between Rock/Paper/Scissors: ')\n",
        "  p2 = input('Player 2 - Choose between Rock/Paper/Scissors: ')\n",
        "\n",
        "  if p1 == p2:\n",
        "    print('Draw')\n",
        "  elif p1 == 'Rock' and p2 == 'Scissors':\n",
        "    print('Player 1 Wins')\n",
        "  elif p1 == 'Scissors' and p2 == 'Paper':\n",
        "    print('Player 1 Wins')\n",
        "  elif p1 == 'Paper' and p2 == 'Rock':\n",
        "    print('Player 1 Wins')\n",
        "  else:\n",
        "    print('Player 2 Wins')\n",
        "\n",
        "  play = input('Do you want to play another game (yes/no)?'). capitalize()\n",
        "  print('Good day...')"
      ],
      "metadata": {
        "id": "8HMrruYQ_EJn"
      },
      "execution_count": null,
      "outputs": []
    },
    {
      "cell_type": "code",
      "source": [
        "#Append items to list iteratively\n",
        "lst = []\n",
        "\n",
        "num = float(input('Give a number:'))\n",
        "\n",
        "while num != 0.0:\n",
        "  lst.append(num)\n",
        "  num = float(input('Give a number:'))\n",
        "\n",
        "lst.sort(reverse=True)\n",
        "print(lst)"
      ],
      "metadata": {
        "id": "sJ0NkRZm_L9r"
      },
      "execution_count": null,
      "outputs": []
    },
    {
      "cell_type": "code",
      "source": [
        "#Dynamic dictionary of number:month pairs\n",
        "months = {}\n",
        "\n",
        "names = [\"Jan\", \"Feb\", \"Mar\", \"Apr\",\"May\", \"Jun\", \"Jul\", \"Aug\", \"Sep\", \"Oct\", \"Nov\", \"Dec\"]\n",
        "numbers = [1, 2, 3, 4, 5, 6, 7, 8, 9, 10, 11, 12]\n",
        "\n",
        "for idx in range(len(numbers)):\n",
        "  months[numbers[idx]] = names[idx]\n",
        "print(months)"
      ],
      "metadata": {
        "id": "Xk6XYPMd_U21"
      },
      "execution_count": null,
      "outputs": []
    },
    {
      "cell_type": "code",
      "source": [
        "#Dynamic dictionary; 5 distinct key:value pairs\n",
        "counts ={}\n",
        "\n",
        "while len(counts) <5:\n",
        "  key = input('Give a string: ')\n",
        "\n",
        "  if key not in counts:\n",
        "    counts[key] = 1\n",
        "  else:\n",
        "    counts[key] += 1\n",
        "\n",
        "counts"
      ],
      "metadata": {
        "id": "v8VEh-apBzLe"
      },
      "execution_count": null,
      "outputs": []
    },
    {
      "cell_type": "code",
      "source": [
        "#Parking garage: calcFee function\n",
        "def calcFee(hours):\n",
        "  fee= 5+ 2.5*hours\n",
        "  if fee<10.0:\n",
        "    fee=10.0\n",
        "  elif fee>20.0:\n",
        "    fee=20.0\n",
        "  print(f'Parking fee: $ {fee}')\n",
        "\n",
        "def main():\n",
        "  hours = int(input(\"Enter number of hours: \"))\n",
        "  fee= calcFee(hours)\n",
        "\n",
        "if __name__ == \"__main__\":\n",
        "  main()"
      ],
      "metadata": {
        "id": "-NhW-konR8PM"
      },
      "execution_count": null,
      "outputs": []
    },
    {
      "cell_type": "code",
      "source": [
        "#Recursive function: string reversal\n",
        "def reverse(s):\n",
        "  if len(s) <= 1:\n",
        "    return s\n",
        "  else:\n",
        "    return s[-1] + reverse(s[:-1])\n",
        "    # or return s[-1] + reverse(s[1:-1]) + s[0]\n",
        "    # or return reverse(s[1:]) +s[0]\n",
        "\n",
        "reverse('Hello')"
      ],
      "metadata": {
        "id": "J0W0r_QE_ZSV"
      },
      "execution_count": null,
      "outputs": []
    },
    {
      "cell_type": "code",
      "source": [
        "#Parking garage/1st question of Assignment II using exception handling\n",
        "def calcFee(hours):\n",
        "  fee = 5 + 2.5 * hours\n",
        "  if fee < 10\n",
        "    fee = 10\n",
        "  elif fee >= 20:\n",
        "    fee = 20\n",
        "  print(f'Fee: {fee}$')\n",
        "\n",
        "def main():\n",
        "  try:\n",
        "    numHours = int(input('Enter number of hours: '))\n",
        "    calcFee(numHours)\n",
        "  except ValueError:\n",
        "    print('Invalid input')\n",
        "  except:\n",
        "    print('Unknown error')\n",
        "\n",
        "if __name__ == '__main__':\n",
        "  main()"
      ],
      "metadata": {
        "id": "-RyRnLnb_gov"
      },
      "execution_count": null,
      "outputs": []
    },
    {
      "cell_type": "code",
      "source": [
        "#Greeting class\n",
        "class Greeting:\n",
        "  def __init__(self, first, last):\n",
        "    self.first = first\n",
        "    self.last = last\n",
        "  def display(self):\n",
        "    print(f'Hi {self.first}')\n",
        "  def display(self, formal = False):\n",
        "    if formal:\n",
        "      print(f'Hello, {self.first} {self.last}')\n",
        "    else:\n",
        "      print(f'Hello {self.first}')\n",
        "\n",
        "  def __str__(self):\n",
        "    #return str(self.first) + \", \" + str(self.last)\n",
        "    #return \"{}, {}\".format(self.first, self.last)\n",
        "    return f'{self.first}, {self.last}'\n",
        "\n",
        "\n",
        "greeting = Greeting('Donald', 'Becker')\n",
        "other_greeting = Greeting('Bob', 'Dylan')\n",
        "greeting.display()\n",
        "print(greeting)\n",
        "print(other_greeting)"
      ],
      "metadata": {
        "id": "NJJZGjSC_lzI"
      },
      "execution_count": null,
      "outputs": []
    },
    {
      "cell_type": "code",
      "source": [
        "#Student class\n",
        "class Student:\n",
        "    def __init__(self, name, number):\n",
        "        self.name = name\n",
        "        self.number = number\n",
        "        self.courses = []\n",
        "    def enroll(self, course):\n",
        "        if course in self.courses:\n",
        "            print(f'already enrolled', {course})\n",
        "        else:\n",
        "            self.courses.append(course)\n",
        "    def get_courses(self):\n",
        "        return self.courses\n",
        "\n",
        "s1 = Student(\"james bond\", 7)\n",
        "s2 = Student(\"clark kent\", 333)\n",
        "s3 = Student(\"John Doe\", 1111)\n",
        "\n",
        "s1.enroll(\"BTE320\")\n",
        "s1.enroll(\"BTE420\")\n",
        "\n",
        "s1.get_courses()"
      ],
      "metadata": {
        "id": "ydxFMtek_vDv"
      },
      "execution_count": null,
      "outputs": []
    },
    {
      "cell_type": "code",
      "source": [
        "#Classes Point and Rectangle\n",
        "class Rectangle:\n",
        "  def __init__(self):\n",
        "    self.c1 = Point(0, 0)\n",
        "    self.c2 = Point(0, 2)\n",
        "    self.c3 = Point(2, 0)\n",
        "    self.c4 = Point(2, 2)\n",
        "    self.width = self.calculate_width()\n",
        "    self.length = self.calculate_length()\n",
        "\n",
        "  def calculate_width(self):\n",
        "    return self.c1.distance(self.c2)\n",
        "\n",
        "  def calculate_length(self):\n",
        "    return self.c1.distance(self.c3)\n",
        "\n",
        "  def area(self):\n",
        "    return f'Are = {self.width * self.length} sq. ft'\n",
        "\n",
        "square = Rectangle()\n",
        "square.area"
      ],
      "metadata": {
        "id": "l0qL1Vl3ci2P"
      },
      "execution_count": null,
      "outputs": []
    }
  ]
}